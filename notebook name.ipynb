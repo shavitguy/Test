{
    "cells": [
        {
            "cell_type": "markdown",
            "metadata": {},
            "source": "Description"
        },
        {
            "cell_type": "code",
            "execution_count": 1,
            "metadata": {},
            "outputs": [
                {
                    "data": {
                        "text/html": "<div>\n<style scoped>\n    .dataframe tbody tr th:only-of-type {\n        vertical-align: middle;\n    }\n\n    .dataframe tbody tr th {\n        vertical-align: top;\n    }\n\n    .dataframe thead th {\n        text-align: right;\n    }\n</style>\n<table border=\"1\" class=\"dataframe\">\n  <thead>\n    <tr style=\"text-align: right;\">\n      <th></th>\n      <th>IFLOC</th>\n      <th>IFITEM</th>\n      <th>QOH</th>\n      <th>QOHPO</th>\n      <th>IFLST</th>\n      <th>INV</th>\n      <th>INVPO</th>\n      <th>QTY</th>\n      <th>SALES</th>\n      <th>GP</th>\n      <th>TURNS</th>\n      <th>GMROI</th>\n      <th>TURNSPO</th>\n    </tr>\n  </thead>\n  <tbody>\n    <tr>\n      <th>0</th>\n      <td>MIA1</td>\n      <td>C5E-114BK-100FB</td>\n      <td>7</td>\n      <td>7</td>\n      <td>8.310</td>\n      <td>58.170</td>\n      <td>58.170</td>\n      <td>19</td>\n      <td>341.9700</td>\n      <td>181.4740</td>\n      <td>2.714286</td>\n      <td>3.119718</td>\n      <td>2.714286</td>\n    </tr>\n    <tr>\n      <th>1</th>\n      <td>MIA1</td>\n      <td>C5E-114BK-10FB</td>\n      <td>1220</td>\n      <td>1540</td>\n      <td>0.909</td>\n      <td>1108.980</td>\n      <td>1399.860</td>\n      <td>2490</td>\n      <td>3568.9890</td>\n      <td>1206.3770</td>\n      <td>2.040984</td>\n      <td>1.087826</td>\n      <td>1.616883</td>\n    </tr>\n    <tr>\n      <th>2</th>\n      <td>MIA1</td>\n      <td>C5E-114BK-14FB</td>\n      <td>996</td>\n      <td>996</td>\n      <td>1.163</td>\n      <td>1158.348</td>\n      <td>1158.348</td>\n      <td>1234</td>\n      <td>3010.9452</td>\n      <td>1429.6962</td>\n      <td>1.238956</td>\n      <td>1.234254</td>\n      <td>1.238956</td>\n    </tr>\n    <tr>\n      <th>3</th>\n      <td>MIA1</td>\n      <td>C5E-114BK-1FB</td>\n      <td>566</td>\n      <td>566</td>\n      <td>0.245</td>\n      <td>138.670</td>\n      <td>138.670</td>\n      <td>995</td>\n      <td>508.6935</td>\n      <td>260.0515</td>\n      <td>1.757951</td>\n      <td>1.875326</td>\n      <td>1.757951</td>\n    </tr>\n    <tr>\n      <th>4</th>\n      <td>MIA1</td>\n      <td>C5E-114BK-25FB</td>\n      <td>484</td>\n      <td>484</td>\n      <td>1.998</td>\n      <td>967.032</td>\n      <td>967.032</td>\n      <td>414</td>\n      <td>1699.5034</td>\n      <td>857.5394</td>\n      <td>0.855372</td>\n      <td>0.886775</td>\n      <td>0.855372</td>\n    </tr>\n  </tbody>\n</table>\n</div>",
                        "text/plain": "  IFLOC           IFITEM   QOH  QOHPO  IFLST       INV     INVPO   QTY  \\\n0  MIA1  C5E-114BK-100FB     7      7  8.310    58.170    58.170    19   \n1  MIA1   C5E-114BK-10FB  1220   1540  0.909  1108.980  1399.860  2490   \n2  MIA1   C5E-114BK-14FB   996    996  1.163  1158.348  1158.348  1234   \n3  MIA1    C5E-114BK-1FB   566    566  0.245   138.670   138.670   995   \n4  MIA1   C5E-114BK-25FB   484    484  1.998   967.032   967.032   414   \n\n       SALES         GP     TURNS     GMROI   TURNSPO  \n0   341.9700   181.4740  2.714286  3.119718  2.714286  \n1  3568.9890  1206.3770  2.040984  1.087826  1.616883  \n2  3010.9452  1429.6962  1.238956  1.234254  1.238956  \n3   508.6935   260.0515  1.757951  1.875326  1.757951  \n4  1699.5034   857.5394  0.855372  0.886775  0.855372  "
                    },
                    "execution_count": 1,
                    "metadata": {},
                    "output_type": "execute_result"
                }
            ],
            "source": "# The code was removed by Watson Studio for sharing."
        },
        {
            "cell_type": "code",
            "execution_count": null,
            "metadata": {},
            "outputs": [],
            "source": ""
        }
    ],
    "metadata": {
        "kernelspec": {
            "display_name": "Python 3.6",
            "language": "python",
            "name": "python3"
        },
        "language_info": {
            "codemirror_mode": {
                "name": "ipython",
                "version": 3
            },
            "file_extension": ".py",
            "mimetype": "text/x-python",
            "name": "python",
            "nbconvert_exporter": "python",
            "pygments_lexer": "ipython3",
            "version": "3.6.9"
        }
    },
    "nbformat": 4,
    "nbformat_minor": 1
}